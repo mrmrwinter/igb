{
 "cells": [
  {
   "cell_type": "code",
   "execution_count": 1,
   "metadata": {},
   "outputs": [],
   "source": [
    "import intra_specific_blast as isb\n",
    "import Bio\n",
    "import io\n",
    "\n"
   ]
  },
  {
   "cell_type": "code",
   "execution_count": 2,
   "metadata": {},
   "outputs": [],
   "source": [
    "hapNo100_cdss = 'data/input/mhap.6aNo100.cds_nt.fa'\n",
    "hap_cdss = 'data/input/mhap.63.cds_nt.fa'\n",
    "inc_cdss = 'data/input/MincW1.cds_nt.fa'\n",
    "flo_cdss = 'data/input/Mflo.cds_nt.fa'"
   ]
  },
  {
   "cell_type": "code",
   "execution_count": 3,
   "metadata": {},
   "outputs": [],
   "source": [
    "hapNo100 = isb.IntraSpecificBlastCommandLine(hap_cdss)"
   ]
  },
  {
   "cell_type": "code",
   "execution_count": 4,
   "metadata": {},
   "outputs": [],
   "source": [
    "hapNo100.execute()"
   ]
  },
  {
   "cell_type": "code",
   "execution_count": null,
   "metadata": {},
   "outputs": [],
   "source": [
    "hap = isb.IntraSpecificBlastCommandLine(hap_cdss)"
   ]
  },
  {
   "cell_type": "code",
   "execution_count": null,
   "metadata": {
    "scrolled": true
   },
   "outputs": [],
   "source": [
    "hap.execute()"
   ]
  },
  {
   "cell_type": "code",
   "execution_count": 5,
   "metadata": {},
   "outputs": [],
   "source": [
    "inc = isb.IntraSpecificBlastCommandLine(inc_cdss)"
   ]
  },
  {
   "cell_type": "code",
   "execution_count": 6,
   "metadata": {},
   "outputs": [],
   "source": [
    "inc.execute()"
   ]
  },
  {
   "cell_type": "code",
   "execution_count": 7,
   "metadata": {},
   "outputs": [],
   "source": [
    "flo = isb.IntraSpecificBlastCommandLine(flo_cdss)"
   ]
  },
  {
   "cell_type": "code",
   "execution_count": 8,
   "metadata": {},
   "outputs": [],
   "source": [
    "flo.execute()"
   ]
  },
  {
   "cell_type": "code",
   "execution_count": 9,
   "metadata": {},
   "outputs": [
    {
     "ename": "NameError",
     "evalue": "name 'hap' is not defined",
     "output_type": "error",
     "traceback": [
      "\u001b[0;31m---------------------------------------------------------------------------\u001b[0m",
      "\u001b[0;31mNameError\u001b[0m                                 Traceback (most recent call last)",
      "\u001b[0;32m<ipython-input-9-0e16a63433a1>\u001b[0m in \u001b[0;36m<module>\u001b[0;34m\u001b[0m\n\u001b[0;32m----> 1\u001b[0;31m \u001b[0ma\u001b[0m \u001b[0;34m=\u001b[0m \u001b[0mhap\u001b[0m\u001b[0;34m.\u001b[0m\u001b[0mcalculate_percents\u001b[0m\u001b[0;34m(\u001b[0m\u001b[0;34m)\u001b[0m\u001b[0;34m\u001b[0m\u001b[0;34m\u001b[0m\u001b[0m\n\u001b[0m",
      "\u001b[0;31mNameError\u001b[0m: name 'hap' is not defined"
     ]
    }
   ],
   "source": [
    "a = hap.calculate_percents()"
   ]
  },
  {
   "cell_type": "code",
   "execution_count": 10,
   "metadata": {},
   "outputs": [],
   "source": [
    "b = inc.calculate_percents()"
   ]
  },
  {
   "cell_type": "code",
   "execution_count": 11,
   "metadata": {},
   "outputs": [],
   "source": [
    "c = flo.calculate_percents()"
   ]
  },
  {
   "cell_type": "code",
   "execution_count": 12,
   "metadata": {},
   "outputs": [],
   "source": [
    "d = hapNo100.calculate_percents()"
   ]
  },
  {
   "cell_type": "code",
   "execution_count": 17,
   "metadata": {},
   "outputs": [
    {
     "ename": "SyntaxError",
     "evalue": "invalid syntax (reprophylo.py, line 856)",
     "output_type": "error",
     "traceback": [
      "Traceback \u001b[0;36m(most recent call last)\u001b[0m:\n",
      "  File \u001b[1;32m\"/home/mike/miniconda3/envs/igb/lib/python3.8/site-packages/IPython/core/interactiveshell.py\"\u001b[0m, line \u001b[1;32m3331\u001b[0m, in \u001b[1;35mrun_code\u001b[0m\n    exec(code_obj, self.user_global_ns, self.user_ns)\n",
      "\u001b[0;36m  File \u001b[0;32m\"<ipython-input-17-c6410388be91>\"\u001b[0;36m, line \u001b[0;32m1\u001b[0;36m, in \u001b[0;35m<module>\u001b[0;36m\u001b[0m\n\u001b[0;31m    from reprophylo import *\u001b[0m\n",
      "\u001b[0;36m  File \u001b[0;32m\"/home/mike/miniconda3/envs/igb/lib/python3.8/site-packages/reprophylo.py\"\u001b[0;36m, line \u001b[0;32m856\u001b[0m\n\u001b[0;31m    print '%i/%i reading %s'%(i,len(filenames), locus_name)\u001b[0m\n\u001b[0m          ^\u001b[0m\n\u001b[0;31mSyntaxError\u001b[0m\u001b[0;31m:\u001b[0m invalid syntax\n"
     ]
    }
   ],
   "source": [
    "from reprophylo import *\n",
    "%matplotlib inline"
   ]
  },
  {
   "cell_type": "code",
   "execution_count": null,
   "metadata": {},
   "outputs": [],
   "source": [
    "minc_hist = plt.hist(b, bins=200)"
   ]
  },
  {
   "cell_type": "code",
   "execution_count": null,
   "metadata": {},
   "outputs": [],
   "source": [
    "hap_hist = plt.hist(a, bins=200)"
   ]
  },
  {
   "cell_type": "code",
   "execution_count": null,
   "metadata": {},
   "outputs": [],
   "source": [
    "mflo_hist = plt.hist(c, bins=200)"
   ]
  },
  {
   "cell_type": "code",
   "execution_count": null,
   "metadata": {},
   "outputs": [],
   "source": [
    "hapNo100_hist = plt.hist(d, bins=200)"
   ]
  },
  {
   "cell_type": "code",
   "execution_count": null,
   "metadata": {},
   "outputs": [],
   "source": [
    "plt.plot(minc_hist[1][1:-1],minc_hist[0][:-1], color='red', linewidth=2)\n",
    "plt.plot(hapNo100_hist[1][1:-1],hap_hist[0][:-1], color='grey', linewidth=2)\n",
    "plt.plot(mflo_hist[1][1:-1],mflo_hist[0][:-1], color='green', linewidth=2)\n",
    "plt.savefig('hap_inc_flo_blast.png', dpi=900, frameon=False)"
   ]
  },
  {
   "cell_type": "code",
   "execution_count": null,
   "metadata": {},
   "outputs": [],
   "source": [
    "len(minc_hist[0])"
   ]
  },
  {
   "cell_type": "code",
   "execution_count": null,
   "metadata": {},
   "outputs": [],
   "source": [
    "len(minc_hist[1])"
   ]
  },
  {
   "cell_type": "code",
   "execution_count": null,
   "metadata": {},
   "outputs": [],
   "source": [
    "koa_cdss = './Mkoa/final_Mkoa_set.fasta'\n",
    "jav_cdss = './MjavVW4/final_MjavVW4_set.fasta'\n",
    "are_cdss = './HarA/final_HarA_set.fasta'\n",
    "ent_cdss = './MentL30/final_MentL30_set.fasta'\n",
    "flo_cdss = './Mflo/final_Mflo_set.fasta'"
   ]
  },
  {
   "cell_type": "code",
   "execution_count": null,
   "metadata": {},
   "outputs": [],
   "source": [
    "## probably redundant\n",
    "\n",
    "!sudo apt-get install -y -qq cd-hit"
   ]
  },
  {
   "cell_type": "code",
   "execution_count": null,
   "metadata": {},
   "outputs": [],
   "source": [
    "koa = isb.IntraSpecificBlastCommandLine(koa_cdss, cd_hit_est='cdhit-est')\n",
    "jav = isb.IntraSpecificBlastCommandLine(jav_cdss, cd_hit_est='cdhit-est')\n",
    "are = isb.IntraSpecificBlastCommandLine(are_cdss, cd_hit_est='cdhit-est')\n",
    "ent = isb.IntraSpecificBlastCommandLine(ent_cdss, cd_hit_est='cdhit-est')\n",
    "flo = isb.IntraSpecificBlastCommandLine(flo_cdss, cd_hit_est='cdhit-est')"
   ]
  },
  {
   "cell_type": "code",
   "execution_count": null,
   "metadata": {},
   "outputs": [],
   "source": [
    "koa.execute()\n",
    "jav.execute()\n",
    "are.execute()\n",
    "ent.execute()\n",
    "flo.execute()"
   ]
  },
  {
   "cell_type": "code",
   "execution_count": null,
   "metadata": {},
   "outputs": [],
   "source": [
    "from reprophylo import *\n",
    "koa_hist = plt.hist(koa.calculate_percents(), bins=200)\n",
    "jav_hist = plt.hist(jav.calculate_percents(), bins=200)\n",
    "are_hist = plt.hist(are.calculate_percents(), bins=200)\n",
    "flo_hist = plt.hist(flo.calculate_percents(), bins=200)\n",
    "hap_hist = plt.hist(a, bins=200)\n",
    "inc_hist = plt.hist(b, bins=200)\n",
    "ent_hist = plt.hist(ent.calculate_percents(), bins=200)"
   ]
  },
  {
   "cell_type": "code",
   "execution_count": null,
   "metadata": {},
   "outputs": [],
   "source": [
    "plt.plot(koa_hist[1][1:-1],koa_hist[0][:-1], color= \"#333333\", linewidth=3)\n",
    "plt.plot(jav_hist[1][1:-1],jav_hist[0][:-1], color=\"#FF950E\", linewidth=3)\n",
    "plt.plot(are_hist[1][1:-1],are_hist[0][:-1], color=\"#009900\", linewidth=3)\n",
    "plt.plot(flo_hist[1][1:-1],flo_hist[0][:-1], color=\"#0066CC\", linewidth=3)\n",
    "plt.plot(ent_hist[1][1:-1],ent_hist[0][:-1], color=\"m\", linewidth=3)\n",
    "plt.plot(inc_hist[1][1:-1],inc_hist[0][:-1], color='red', linewidth=2)\n",
    "plt.plot(hap_hist[1][1:-1],hap_hist[0][:-1], color='grey', linewidth=3)\n",
    "plt.savefig('intra_blast.png', dpi=900, frameon=False)"
   ]
  },
  {
   "cell_type": "code",
   "execution_count": null,
   "metadata": {},
   "outputs": [],
   "source": [
    "plt.plot(flo_hist[1][1:-1],flo_hist[0][:-1], color=\"#0066CC\", linewidth=3)\n",
    "plt.plot(ent_hist[1][1:-1],ent_hist[0][:-1], color=\"m\", linewidth=3)"
   ]
  },
  {
   "cell_type": "code",
   "execution_count": null,
   "metadata": {},
   "outputs": [],
   "source": []
  }
 ],
 "metadata": {
  "kernelspec": {
   "display_name": "Python 3",
   "language": "python",
   "name": "python3"
  },
  "language_info": {
   "codemirror_mode": {
    "name": "ipython",
    "version": 3
   },
   "file_extension": ".py",
   "mimetype": "text/x-python",
   "name": "python",
   "nbconvert_exporter": "python",
   "pygments_lexer": "ipython3",
   "version": "3.8.2"
  }
 },
 "nbformat": 4,
 "nbformat_minor": 1
}
