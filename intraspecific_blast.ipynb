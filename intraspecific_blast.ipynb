{
 "cells": [
  {
   "cell_type": "code",
   "execution_count": 1,
   "metadata": {},
   "outputs": [],
   "source": [
    "import intra_specific_blast2 as isb\n",
    "import Bio\n",
    "import io\n",
    "\n"
   ]
  },
  {
   "cell_type": "code",
   "execution_count": 3,
   "metadata": {},
   "outputs": [],
   "source": [
    "hapNo100_cdss = 'data\\input\\mhap.63_jupInNo100.cds_nt.fa'\n",
    "hap_cdss = 'data/input/mhap.63.cds_nt.fa'\n",
    "inc_cdss = 'data/input/MincW1.cds_nt.fa'\n",
    "flo_cdss = 'data/input/Mflo.cds_nt.fa'"
   ]
  },
  {
   "cell_type": "code",
   "execution_count": 4,
   "metadata": {},
   "outputs": [],
   "source": [
    "hapNo100 = isb.IntraSpecificBlastCommandLine(hap_cdss)"
   ]
  },
  {
   "cell_type": "code",
   "execution_count": 5,
   "metadata": {},
   "outputs": [],
   "source": [
    "hapNo100.execute()"
   ]
  },
  {
   "cell_type": "code",
   "execution_count": null,
   "metadata": {},
   "outputs": [],
   "source": [
    "hap = isb.IntraSpecificBlastCommandLine(hap_cdss)"
   ]
  },
  {
   "cell_type": "code",
   "execution_count": null,
   "metadata": {
    "scrolled": true
   },
   "outputs": [],
   "source": [
    "hap.execute()"
   ]
  },
  {
   "cell_type": "code",
   "execution_count": 6,
   "metadata": {},
   "outputs": [],
   "source": [
    "inc = isb.IntraSpecificBlastCommandLine(inc_cdss)"
   ]
  },
  {
   "cell_type": "code",
   "execution_count": null,
   "metadata": {},
   "outputs": [],
   "source": [
    "inc.execute()"
   ]
  },
  {
   "cell_type": "code",
   "execution_count": null,
   "metadata": {},
   "outputs": [],
   "source": [
    "flo = isb.IntraSpecificBlastCommandLine(flo_cdss)"
   ]
  },
  {
   "cell_type": "code",
   "execution_count": null,
   "metadata": {},
   "outputs": [],
   "source": [
    "flo.execute()"
   ]
  },
  {
   "cell_type": "code",
   "execution_count": null,
   "metadata": {},
   "outputs": [],
   "source": [
    "a = hap.calculate_percents()"
   ]
  },
  {
   "cell_type": "code",
   "execution_count": 1,
   "metadata": {},
   "outputs": [
    {
     "ename": "NameError",
     "evalue": "name 'inc' is not defined",
     "output_type": "error",
     "traceback": [
      "\u001b[0;31m---------------------------------------------------------------------------\u001b[0m",
      "\u001b[0;31mNameError\u001b[0m                                 Traceback (most recent call last)",
      "\u001b[0;32m<ipython-input-1-c6f888545238>\u001b[0m in \u001b[0;36m<module>\u001b[0;34m()\u001b[0m\n\u001b[0;32m----> 1\u001b[0;31m \u001b[0mb\u001b[0m \u001b[0;34m=\u001b[0m \u001b[0minc\u001b[0m\u001b[0;34m.\u001b[0m\u001b[0mcalculate_percents\u001b[0m\u001b[0;34m(\u001b[0m\u001b[0;34m)\u001b[0m\u001b[0;34m\u001b[0m\u001b[0;34m\u001b[0m\u001b[0m\n\u001b[0m",
      "\u001b[0;31mNameError\u001b[0m: name 'inc' is not defined"
     ]
    }
   ],
   "source": [
    "b = inc.calculate_percents()"
   ]
  },
  {
   "cell_type": "code",
   "execution_count": 18,
   "metadata": {},
   "outputs": [
    {
     "ename": "TypeError",
     "evalue": "initial_value must be unicode or None, not str",
     "output_type": "error",
     "traceback": [
      "\u001b[0;31m---------------------------------------------------------------------------\u001b[0m",
      "\u001b[0;31mTypeError\u001b[0m                                 Traceback (most recent call last)",
      "\u001b[0;32m<ipython-input-18-764e4e362fbc>\u001b[0m in \u001b[0;36m<module>\u001b[0;34m()\u001b[0m\n\u001b[0;32m----> 1\u001b[0;31m \u001b[0mc\u001b[0m \u001b[0;34m=\u001b[0m \u001b[0mflo\u001b[0m\u001b[0;34m.\u001b[0m\u001b[0mcalculate_percents\u001b[0m\u001b[0;34m(\u001b[0m\u001b[0;34m)\u001b[0m\u001b[0;34m\u001b[0m\u001b[0m\n\u001b[0m",
      "\u001b[0;32m/mnt/v/Dropbox/igb/intra_specific_blast.py\u001b[0m in \u001b[0;36mcalculate_percents\u001b[0;34m(self)\u001b[0m\n\u001b[1;32m     51\u001b[0m         \u001b[0;32mimport\u001b[0m \u001b[0mio\u001b[0m\u001b[0;34m\u001b[0m\u001b[0m\n\u001b[1;32m     52\u001b[0m \u001b[0;34m\u001b[0m\u001b[0m\n\u001b[0;32m---> 53\u001b[0;31m         \u001b[0mstring_results\u001b[0m \u001b[0;34m=\u001b[0m \u001b[0mio\u001b[0m\u001b[0;34m.\u001b[0m\u001b[0mStringIO\u001b[0m\u001b[0;34m(\u001b[0m\u001b[0mself\u001b[0m\u001b[0;34m.\u001b[0m\u001b[0mresults\u001b[0m\u001b[0;34m)\u001b[0m\u001b[0;34m\u001b[0m\u001b[0m\n\u001b[0m\u001b[1;32m     54\u001b[0m         \u001b[0mresults\u001b[0m \u001b[0;34m=\u001b[0m \u001b[0mNCBIXML\u001b[0m\u001b[0;34m.\u001b[0m\u001b[0mparse\u001b[0m\u001b[0;34m(\u001b[0m\u001b[0mstring_results\u001b[0m\u001b[0;34m)\u001b[0m\u001b[0;34m\u001b[0m\u001b[0m\n\u001b[1;32m     55\u001b[0m \u001b[0;34m\u001b[0m\u001b[0m\n",
      "\u001b[0;31mTypeError\u001b[0m: initial_value must be unicode or None, not str"
     ]
    }
   ],
   "source": [
    "c = flo.calculate_percents()"
   ]
  },
  {
   "cell_type": "code",
   "execution_count": 11,
   "metadata": {},
   "outputs": [],
   "source": [
    "d = hapNo100.calculate_percents()"
   ]
  },
  {
   "cell_type": "code",
   "execution_count": 15,
   "metadata": {},
   "outputs": [],
   "source": [
    "from reprophylo import *\n",
    "%matplotlib inline"
   ]
  },
  {
   "cell_type": "code",
   "execution_count": 19,
   "metadata": {},
   "outputs": [
    {
     "ename": "NameError",
     "evalue": "name 'b' is not defined",
     "output_type": "error",
     "traceback": [
      "\u001b[0;31m---------------------------------------------------------------------------\u001b[0m",
      "\u001b[0;31mNameError\u001b[0m                                 Traceback (most recent call last)",
      "\u001b[0;32m<ipython-input-19-1c60fd76668e>\u001b[0m in \u001b[0;36m<module>\u001b[0;34m()\u001b[0m\n\u001b[0;32m----> 1\u001b[0;31m \u001b[0mminc_hist\u001b[0m \u001b[0;34m=\u001b[0m \u001b[0mplt\u001b[0m\u001b[0;34m.\u001b[0m\u001b[0mhist\u001b[0m\u001b[0;34m(\u001b[0m\u001b[0mb\u001b[0m\u001b[0;34m,\u001b[0m \u001b[0mbins\u001b[0m\u001b[0;34m=\u001b[0m\u001b[0;36m200\u001b[0m\u001b[0;34m)\u001b[0m\u001b[0;34m\u001b[0m\u001b[0m\n\u001b[0m",
      "\u001b[0;31mNameError\u001b[0m: name 'b' is not defined"
     ]
    }
   ],
   "source": [
    "minc_hist = plt.hist(b, bins=200)"
   ]
  },
  {
   "cell_type": "code",
   "execution_count": null,
   "metadata": {},
   "outputs": [],
   "source": [
    "hap_hist = plt.hist(a, bins=200)"
   ]
  },
  {
   "cell_type": "code",
   "execution_count": null,
   "metadata": {},
   "outputs": [],
   "source": [
    "mflo_hist = plt.hist(c, bins=200)"
   ]
  },
  {
   "cell_type": "code",
   "execution_count": 16,
   "metadata": {},
   "outputs": [
    {
     "data": {
      "image/png": "[encoded data removed]",
      "text/plain": [
       "<Figure size 432x288 with 1 Axes>"
      ]
     },
     "metadata": {
      "needs_background": "light"
     },
     "output_type": "display_data"
    }
   ],
   "source": [
    "hapNo100_hist = plt.hist(d, bins=200)"
   ]
  },
  {
   "cell_type": "code",
   "execution_count": null,
   "metadata": {},
   "outputs": [],
   "source": [
    "plt.plot(minc_hist[1][1:-1],minc_hist[0][:-1], color='red', linewidth=2)\n",
    "plt.plot(hapNo100_hist[1][1:-1],hap_hist[0][:-1], color='grey', linewidth=2)\n",
    "plt.plot(mflo_hist[1][1:-1],mflo_hist[0][:-1], color='green', linewidth=2)\n",
    "plt.savefig('hap_inc_flo_blast.png', dpi=900, frameon=False)"
   ]
  },
  {
   "cell_type": "code",
   "execution_count": null,
   "metadata": {},
   "outputs": [],
   "source": [
    "len(minc_hist[0])"
   ]
  },
  {
   "cell_type": "code",
   "execution_count": null,
   "metadata": {},
   "outputs": [],
   "source": [
    "len(minc_hist[1])"
   ]
  },
  {
   "cell_type": "code",
   "execution_count": null,
   "metadata": {},
   "outputs": [],
   "source": [
    "koa_cdss = './Mkoa/final_Mkoa_set.fasta'\n",
    "jav_cdss = './MjavVW4/final_MjavVW4_set.fasta'\n",
    "are_cdss = './HarA/final_HarA_set.fasta'\n",
    "ent_cdss = './MentL30/final_MentL30_set.fasta'\n",
    "flo_cdss = './Mflo/final_Mflo_set.fasta'"
   ]
  },
  {
   "cell_type": "code",
   "execution_count": null,
   "metadata": {},
   "outputs": [],
   "source": [
    "## probably redundant\n",
    "\n",
    "!sudo apt-get install -y -qq cd-hit"
   ]
  },
  {
   "cell_type": "code",
   "execution_count": null,
   "metadata": {},
   "outputs": [],
   "source": [
    "koa = isb.IntraSpecificBlastCommandLine(koa_cdss, cd_hit_est='cdhit-est')\n",
    "jav = isb.IntraSpecificBlastCommandLine(jav_cdss, cd_hit_est='cdhit-est')\n",
    "are = isb.IntraSpecificBlastCommandLine(are_cdss, cd_hit_est='cdhit-est')\n",
    "ent = isb.IntraSpecificBlastCommandLine(ent_cdss, cd_hit_est='cdhit-est')\n",
    "flo = isb.IntraSpecificBlastCommandLine(flo_cdss, cd_hit_est='cdhit-est')"
   ]
  },
  {
   "cell_type": "code",
   "execution_count": null,
   "metadata": {},
   "outputs": [],
   "source": [
    "koa.execute()\n",
    "jav.execute()\n",
    "are.execute()\n",
    "ent.execute()\n",
    "flo.execute()"
   ]
  },
  {
   "cell_type": "code",
   "execution_count": null,
   "metadata": {},
   "outputs": [],
   "source": [
    "from reprophylo import *\n",
    "koa_hist = plt.hist(koa.calculate_percents(), bins=200)\n",
    "jav_hist = plt.hist(jav.calculate_percents(), bins=200)\n",
    "are_hist = plt.hist(are.calculate_percents(), bins=200)\n",
    "flo_hist = plt.hist(flo.calculate_percents(), bins=200)\n",
    "hap_hist = plt.hist(a, bins=200)\n",
    "inc_hist = plt.hist(b, bins=200)\n",
    "ent_hist = plt.hist(ent.calculate_percents(), bins=200)"
   ]
  },
  {
   "cell_type": "code",
   "execution_count": null,
   "metadata": {},
   "outputs": [],
   "source": [
    "plt.plot(koa_hist[1][1:-1],koa_hist[0][:-1], color= \"#333333\", linewidth=3)\n",
    "plt.plot(jav_hist[1][1:-1],jav_hist[0][:-1], color=\"#FF950E\", linewidth=3)\n",
    "plt.plot(are_hist[1][1:-1],are_hist[0][:-1], color=\"#009900\", linewidth=3)\n",
    "plt.plot(flo_hist[1][1:-1],flo_hist[0][:-1], color=\"#0066CC\", linewidth=3)\n",
    "plt.plot(ent_hist[1][1:-1],ent_hist[0][:-1], color=\"m\", linewidth=3)\n",
    "plt.plot(inc_hist[1][1:-1],inc_hist[0][:-1], color='red', linewidth=2)\n",
    "plt.plot(hap_hist[1][1:-1],hap_hist[0][:-1], color='grey', linewidth=3)\n",
    "plt.savefig('intra_blast.png', dpi=900, frameon=False)"
   ]
  },
  {
   "cell_type": "code",
   "execution_count": null,
   "metadata": {},
   "outputs": [],
   "source": [
    "plt.plot(flo_hist[1][1:-1],flo_hist[0][:-1], color=\"#0066CC\", linewidth=3)\n",
    "plt.plot(ent_hist[1][1:-1],ent_hist[0][:-1], color=\"m\", linewidth=3)"
   ]
  },
  {
   "cell_type": "code",
   "execution_count": null,
   "metadata": {},
   "outputs": [],
   "source": []
  }
 ],
 "metadata": {
  "kernelspec": {
   "display_name": "Python 2",
   "language": "python",
   "name": "python2"
  },
  "language_info": {
   "codemirror_mode": {
    "name": "ipython",
    "version": 2
   },
   "file_extension": ".py",
   "mimetype": "text/x-python",
   "name": "python",
   "nbconvert_exporter": "python",
   "pygments_lexer": "ipython2",
   "version": "2.7.15"
  }
 },
 "nbformat": 4,
 "nbformat_minor": 1
}
