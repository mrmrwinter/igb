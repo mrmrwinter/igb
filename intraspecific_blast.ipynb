{
 "cells": [
  {
   "cell_type": "code",
   "execution_count": 1,
   "metadata": {},
   "outputs": [],
   "source": [
    "import intra_specific_blast2 as isb # imports the intraspecificblast.py script\n",
    "import Bio # imports Biopython\n",
    "import io # imports IO\n",
    "\n"
   ]
  },
  {
   "cell_type": "code",
   "execution_count": 23,
   "metadata": {},
   "outputs": [],
   "source": [
    "# assign files to objects\n",
    "\n",
    "hapnh_cdss = 'data/input/mhap_63.nh.cds_nt.fa'\n",
    "jav_cdss = 'data/input/MjavVW4_ref.cds_nt.fa'\n",
    "inc_cdss = 'data/input/MincW1.cds_nt.fa'\n",
    "flo_cdss = 'data/input/Mflo.cds_nt.fa'"
   ]
  },
  {
   "cell_type": "code",
   "execution_count": 5,
   "metadata": {},
   "outputs": [],
   "source": [
    "hapnh = isb.IntraSpecificBlastCommandLine(hapnh_cdss)"
   ]
  },
  {
   "cell_type": "code",
   "execution_count": 6,
   "metadata": {},
   "outputs": [],
   "source": [
    "hapnh.execute()"
   ]
  },
  {
   "cell_type": "code",
   "execution_count": 5,
   "metadata": {},
   "outputs": [],
   "source": [
    "# hap = isb.IntraSpecificBlastCommandLine(hap_cdss) # broken"
   ]
  },
  {
   "cell_type": "code",
   "execution_count": 6,
   "metadata": {
    "scrolled": true
   },
   "outputs": [],
   "source": [
    "# hap.execute() # broken"
   ]
  },
  {
   "cell_type": "code",
   "execution_count": 7,
   "metadata": {},
   "outputs": [],
   "source": [
    "inc = isb.IntraSpecificBlastCommandLine(inc_cdss)"
   ]
  },
  {
   "cell_type": "code",
   "execution_count": 8,
   "metadata": {},
   "outputs": [],
   "source": [
    "inc.execute()"
   ]
  },
  {
   "cell_type": "code",
   "execution_count": 9,
   "metadata": {},
   "outputs": [],
   "source": [
    "flo = isb.IntraSpecificBlastCommandLine(flo_cdss)"
   ]
  },
  {
   "cell_type": "code",
   "execution_count": 10,
   "metadata": {},
   "outputs": [],
   "source": [
    "flo.execute()"
   ]
  },
  {
   "cell_type": "code",
   "execution_count": 11,
   "metadata": {},
   "outputs": [],
   "source": [
    "#a = hap.calculate_percents()"
   ]
  },
  {
   "cell_type": "code",
   "execution_count": 24,
   "metadata": {},
   "outputs": [],
   "source": [
    "jav = isb.IntraSpecificBlastCommandLine(jav_cdss)"
   ]
  },
  {
   "cell_type": "code",
   "execution_count": null,
   "metadata": {},
   "outputs": [],
   "source": [
    "jav.execute()"
   ]
  },
  {
   "cell_type": "code",
   "execution_count": null,
   "metadata": {},
   "outputs": [],
   "source": [
    "a = jav.calculate_percents()"
   ]
  },
  {
   "cell_type": "code",
   "execution_count": 15,
   "metadata": {},
   "outputs": [],
   "source": [
    "b = inc.calculate_percents()"
   ]
  },
  {
   "cell_type": "code",
   "execution_count": 16,
   "metadata": {},
   "outputs": [],
   "source": [
    "c = flo.calculate_percents()"
   ]
  },
  {
   "cell_type": "code",
   "execution_count": 17,
   "metadata": {},
   "outputs": [],
   "source": [
    "d = hapnh.calculate_percents()"
   ]
  },
  {
   "cell_type": "code",
   "execution_count": 18,
   "metadata": {},
   "outputs": [],
   "source": [
    "from reprophylo import *\n",
    "%matplotlib inline"
   ]
  },
  {
   "cell_type": "code",
   "execution_count": 19,
   "metadata": {},
   "outputs": [
    {
     "data": {
      "image/png": "[encoded data removed]",
      "text/plain": [
       "<Figure size 432x288 with 1 Axes>"
      ]
     },
     "metadata": {
      "needs_background": "light"
     },
     "output_type": "display_data"
    }
   ],
   "source": [
    "minc_hist = plt.hist(b, bins=200)"
   ]
  },
  {
   "cell_type": "code",
   "execution_count": null,
   "metadata": {},
   "outputs": [],
   "source": [
    "jav_hist = plt.hist(a, bins=200)"
   ]
  },
  {
   "cell_type": "code",
   "execution_count": 20,
   "metadata": {},
   "outputs": [
    {
     "data": {
      "image/png": "[encoded data removed]",
      "text/plain": [
       "<Figure size 432x288 with 1 Axes>"
      ]
     },
     "metadata": {
      "needs_background": "light"
     },
     "output_type": "display_data"
    }
   ],
   "source": [
    "mflo_hist = plt.hist(c, bins=200)"
   ]
  },
  {
   "cell_type": "code",
   "execution_count": 21,
   "metadata": {},
   "outputs": [
    {
     "data": {
      "image/png": "[encoded data removed]",
      "text/plain": [
       "<Figure size 432x288 with 1 Axes>"
      ]
     },
     "metadata": {
      "needs_background": "light"
     },
     "output_type": "display_data"
    }
   ],
   "source": [
    "hapnh_hist = plt.hist(d, bins=200)"
   ]
  },
  {
   "cell_type": "code",
   "execution_count": null,
   "metadata": {},
   "outputs": [],
   "source": [
    "plt.plot(minc_hist[1][1:-1],minc_hist[0][:-1], color='red', linewidth=2)\n",
    "plt.plot(hapnh_hist[1][1:-1],hapnh_hist[0][:-1], color='grey', linewidth=2)\n",
    "plt.plot(mflo_hist[1][1:-1],mflo_hist[0][:-1], color='green', linewidth=2)\n",
    "plt.plot(jav_hist[1][1:-1],jav_hist[0][:-1], color='green', linewidth=2)\n",
    "plt.savefig('hap_inc_flo_blast.png', dpi=900, frameon=False)"
   ]
  },
  {
   "cell_type": "code",
   "execution_count": 22,
   "metadata": {},
   "outputs": [
    {
     "data": {
      "text/plain": [
       "200"
      ]
     },
     "execution_count": 22,
     "metadata": {},
     "output_type": "execute_result"
    }
   ],
   "source": [
    "len(minc_hist[0])"
   ]
  },
  {
   "cell_type": "code",
   "execution_count": 23,
   "metadata": {},
   "outputs": [
    {
     "data": {
      "text/plain": [
       "201"
      ]
     },
     "execution_count": 23,
     "metadata": {},
     "output_type": "execute_result"
    }
   ],
   "source": [
    "len(minc_hist[1])"
   ]
  },
  {
   "cell_type": "code",
   "execution_count": 24,
   "metadata": {},
   "outputs": [],
   "source": [
    "koa_cdss = './Mkoa/final_Mkoa_set.fasta'\n",
    "jav_cdss = './MjavVW4/final_MjavVW4_set.fasta'\n",
    "are_cdss = './HarA/final_HarA_set.fasta'\n",
    "ent_cdss = './MentL30/final_MentL30_set.fasta'\n",
    "flo_cdss = './Mflo/final_Mflo_set.fasta'"
   ]
  },
  {
   "cell_type": "code",
   "execution_count": null,
   "metadata": {},
   "outputs": [
    {
     "name": "stdout",
     "output_type": "stream",
     "text": [
      "[sudo] password for mike: "
     ]
    }
   ],
   "source": [
    "## probably redundant\n",
    "\n",
    "!sudo apt-get install -y -qq cd-hit"
   ]
  },
  {
   "cell_type": "code",
   "execution_count": null,
   "metadata": {},
   "outputs": [],
   "source": [
    "koa = isb.IntraSpecificBlastCommandLine(koa_cdss, cd_hit_est='cdhit-est')\n",
    "jav = isb.IntraSpecificBlastCommandLine(jav_cdss, cd_hit_est='cdhit-est')\n",
    "are = isb.IntraSpecificBlastCommandLine(are_cdss, cd_hit_est='cdhit-est')\n",
    "ent = isb.IntraSpecificBlastCommandLine(ent_cdss, cd_hit_est='cdhit-est')\n",
    "flo = isb.IntraSpecificBlastCommandLine(flo_cdss, cd_hit_est='cdhit-est')"
   ]
  },
  {
   "cell_type": "code",
   "execution_count": null,
   "metadata": {},
   "outputs": [],
   "source": [
    "koa.execute()\n",
    "jav.execute()\n",
    "are.execute()\n",
    "ent.execute()\n",
    "flo.execute()"
   ]
  },
  {
   "cell_type": "code",
   "execution_count": null,
   "metadata": {},
   "outputs": [],
   "source": [
    "from reprophylo import *\n",
    "koa_hist = plt.hist(koa.calculate_percents(), bins=200)\n",
    "jav_hist = plt.hist(jav.calculate_percents(), bins=200)\n",
    "are_hist = plt.hist(are.calculate_percents(), bins=200)\n",
    "flo_hist = plt.hist(flo.calculate_percents(), bins=200)\n",
    "hap_hist = plt.hist(a, bins=200)\n",
    "inc_hist = plt.hist(b, bins=200)\n",
    "ent_hist = plt.hist(ent.calculate_percents(), bins=200)"
   ]
  },
  {
   "cell_type": "code",
   "execution_count": null,
   "metadata": {},
   "outputs": [],
   "source": [
    "plt.plot(koa_hist[1][1:-1],koa_hist[0][:-1], color= \"#333333\", linewidth=3)\n",
    "plt.plot(jav_hist[1][1:-1],jav_hist[0][:-1], color=\"#FF950E\", linewidth=3)\n",
    "plt.plot(are_hist[1][1:-1],are_hist[0][:-1], color=\"#009900\", linewidth=3)\n",
    "plt.plot(flo_hist[1][1:-1],flo_hist[0][:-1], color=\"#0066CC\", linewidth=3)\n",
    "plt.plot(ent_hist[1][1:-1],ent_hist[0][:-1], color=\"m\", linewidth=3)\n",
    "plt.plot(inc_hist[1][1:-1],inc_hist[0][:-1], color='red', linewidth=2)\n",
    "plt.plot(hap_hist[1][1:-1],hap_hist[0][:-1], color='grey', linewidth=3)\n",
    "plt.savefig('intra_blast.png', dpi=900, frameon=False)"
   ]
  },
  {
   "cell_type": "code",
   "execution_count": null,
   "metadata": {},
   "outputs": [],
   "source": [
    "plt.plot(flo_hist[1][1:-1],flo_hist[0][:-1], color=\"#0066CC\", linewidth=3)\n",
    "plt.plot(ent_hist[1][1:-1],ent_hist[0][:-1], color=\"m\", linewidth=3)"
   ]
  },
  {
   "cell_type": "code",
   "execution_count": null,
   "metadata": {},
   "outputs": [],
   "source": []
  }
 ],
 "metadata": {
  "kernelspec": {
   "display_name": "Python [conda env:IGB]",
   "language": "python",
   "name": "conda-env-IGB-py"
  },
  "language_info": {
   "codemirror_mode": {
    "name": "ipython",
    "version": 2
   },
   "file_extension": ".py",
   "mimetype": "text/x-python",
   "name": "python",
   "nbconvert_exporter": "python",
   "pygments_lexer": "ipython2",
   "version": "2.7.15"
  }
 },
 "nbformat": 4,
 "nbformat_minor": 1
}
